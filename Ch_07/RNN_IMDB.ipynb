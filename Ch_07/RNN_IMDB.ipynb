{
 "cells": [
  {
   "cell_type": "code",
   "id": "initial_id",
   "metadata": {
    "collapsed": true,
    "ExecuteTime": {
     "end_time": "2025-07-25T14:22:33.132311Z",
     "start_time": "2025-07-25T14:22:32.963580Z"
    }
   },
   "source": [
    "import torch\n",
    "import torchtext\n",
    "import numpy as np\n",
    "import torch.nn as nn\n",
    "import torch.nn.functional as F\n",
    "import time"
   ],
   "outputs": [],
   "execution_count": 32
  },
  {
   "metadata": {
    "ExecuteTime": {
     "end_time": "2025-07-25T14:22:38.916116Z",
     "start_time": "2025-07-25T14:22:38.902173Z"
    }
   },
   "cell_type": "code",
   "source": "",
   "id": "2c31d908c5d1a05a",
   "outputs": [
    {
     "ename": "AttributeError",
     "evalue": "module 'torchtext' has no attribute 'legacy'",
     "output_type": "error",
     "traceback": [
      "\u001B[31m---------------------------------------------------------------------------\u001B[39m",
      "\u001B[31mAttributeError\u001B[39m                            Traceback (most recent call last)",
      "\u001B[36mCell\u001B[39m\u001B[36m \u001B[39m\u001B[32mIn[34]\u001B[39m\u001B[32m, line 2\u001B[39m\n\u001B[32m      1\u001B[39m start = time.time()\n\u001B[32m----> \u001B[39m\u001B[32m2\u001B[39m TEXT = torchtext.legacy.data.Field(lower=\u001B[38;5;28;01mTrue\u001B[39;00m, fix_length=\u001B[32m200\u001B[39m, batch_first=\u001B[38;5;28;01mFalse\u001B[39;00m)\n\u001B[32m      3\u001B[39m LABEL = torchtext.legacy.data.Field(sequential=\u001B[38;5;28;01mFalse\u001B[39;00m)\n",
      "\u001B[31mAttributeError\u001B[39m: module 'torchtext' has no attribute 'legacy'"
     ]
    }
   ],
   "execution_count": 34
  },
  {
   "metadata": {},
   "cell_type": "code",
   "outputs": [],
   "execution_count": null,
   "source": "",
   "id": "73016f305444769"
  }
 ],
 "metadata": {
  "kernelspec": {
   "display_name": "Python 3",
   "language": "python",
   "name": "python3"
  },
  "language_info": {
   "codemirror_mode": {
    "name": "ipython",
    "version": 2
   },
   "file_extension": ".py",
   "mimetype": "text/x-python",
   "name": "python",
   "nbconvert_exporter": "python",
   "pygments_lexer": "ipython2",
   "version": "2.7.6"
  }
 },
 "nbformat": 4,
 "nbformat_minor": 5
}
